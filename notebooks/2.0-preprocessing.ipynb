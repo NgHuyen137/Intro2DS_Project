{
 "cells": [
  {
   "cell_type": "markdown",
   "id": "1b01e501-fda2-4867-9931-96fb421943c6",
   "metadata": {},
   "source": [
    "## 1. Thêm thư viện"
   ]
  },
  {
   "cell_type": "code",
   "execution_count": 1,
   "id": "c04de3b1-ac39-4dd8-91b4-b819ae90e6b6",
   "metadata": {},
   "outputs": [],
   "source": [
    "import numpy as np\n",
    "import pandas as pd\n",
    "import matplotlib.pyplot as plt"
   ]
  },
  {
   "cell_type": "markdown",
   "id": "e4c22a6b-03a2-4565-967b-7d5d968c5eef",
   "metadata": {},
   "source": [
    "## 2. Tiền xử lý và khám phá dữ liệu"
   ]
  },
  {
   "cell_type": "code",
   "execution_count": 2,
   "id": "88b995cb-dc1e-4d43-8f10-787e16b8de6f",
   "metadata": {},
   "outputs": [
    {
     "data": {
      "text/html": [
       "<div>\n",
       "<style scoped>\n",
       "    .dataframe tbody tr th:only-of-type {\n",
       "        vertical-align: middle;\n",
       "    }\n",
       "\n",
       "    .dataframe tbody tr th {\n",
       "        vertical-align: top;\n",
       "    }\n",
       "\n",
       "    .dataframe thead th {\n",
       "        text-align: right;\n",
       "    }\n",
       "</style>\n",
       "<table border=\"1\" class=\"dataframe\">\n",
       "  <thead>\n",
       "    <tr style=\"text-align: right;\">\n",
       "      <th></th>\n",
       "      <th>Date published</th>\n",
       "      <th>Name</th>\n",
       "      <th>Review_header</th>\n",
       "      <th>Review_body</th>\n",
       "      <th>Verified_review</th>\n",
       "      <th>Type_of_traveller</th>\n",
       "      <th>Seat_type</th>\n",
       "      <th>Route</th>\n",
       "      <th>Date_flown</th>\n",
       "      <th>Aircraft</th>\n",
       "      <th>Seat_comfort</th>\n",
       "      <th>Cabin_staff_service</th>\n",
       "      <th>Food_and_beverages</th>\n",
       "      <th>Inflight_entertainments</th>\n",
       "      <th>Ground_service</th>\n",
       "      <th>Value_for_money</th>\n",
       "      <th>Wifi_and_connectivity</th>\n",
       "      <th>Overall_rating</th>\n",
       "      <th>Recommended</th>\n",
       "    </tr>\n",
       "  </thead>\n",
       "  <tbody>\n",
       "    <tr>\n",
       "      <th>0</th>\n",
       "      <td>2023-12-21</td>\n",
       "      <td>T Maddern</td>\n",
       "      <td>“I couldn’t fault them”</td>\n",
       "      <td>This was our first flight with British Airways...</td>\n",
       "      <td>Trip Verified</td>\n",
       "      <td>Family Leisure</td>\n",
       "      <td>Business Class</td>\n",
       "      <td>London Heathrow to Stockholm</td>\n",
       "      <td>December 2023</td>\n",
       "      <td>A329</td>\n",
       "      <td>4.0</td>\n",
       "      <td>5.0</td>\n",
       "      <td>5.0</td>\n",
       "      <td>NaN</td>\n",
       "      <td>5.0</td>\n",
       "      <td>5</td>\n",
       "      <td>NaN</td>\n",
       "      <td>10</td>\n",
       "      <td>yes</td>\n",
       "    </tr>\n",
       "    <tr>\n",
       "      <th>1</th>\n",
       "      <td>2023-12-21</td>\n",
       "      <td>K Pearson</td>\n",
       "      <td>“incompetence in customer service”</td>\n",
       "      <td>I recently encountered a highly disappointing ...</td>\n",
       "      <td>Trip Verified</td>\n",
       "      <td>Solo Leisure</td>\n",
       "      <td>Economy Class</td>\n",
       "      <td>Indianapolis to Mumbai via London Heathrow</td>\n",
       "      <td>December 2023</td>\n",
       "      <td>NaN</td>\n",
       "      <td>1.0</td>\n",
       "      <td>1.0</td>\n",
       "      <td>NaN</td>\n",
       "      <td>NaN</td>\n",
       "      <td>1.0</td>\n",
       "      <td>1</td>\n",
       "      <td>NaN</td>\n",
       "      <td>1</td>\n",
       "      <td>no</td>\n",
       "    </tr>\n",
       "    <tr>\n",
       "      <th>2</th>\n",
       "      <td>2023-12-20</td>\n",
       "      <td>C Shaw</td>\n",
       "      <td>“The most ridiculous thing I've heard”</td>\n",
       "      <td>Beware! BA don't provide any refund due to a v...</td>\n",
       "      <td>Not Verified</td>\n",
       "      <td>Family Leisure</td>\n",
       "      <td>Premium Economy</td>\n",
       "      <td>Cyprus to New York</td>\n",
       "      <td>December 2023</td>\n",
       "      <td>NaN</td>\n",
       "      <td>NaN</td>\n",
       "      <td>NaN</td>\n",
       "      <td>NaN</td>\n",
       "      <td>NaN</td>\n",
       "      <td>1.0</td>\n",
       "      <td>1</td>\n",
       "      <td>NaN</td>\n",
       "      <td>1</td>\n",
       "      <td>no</td>\n",
       "    </tr>\n",
       "    <tr>\n",
       "      <th>3</th>\n",
       "      <td>2023-12-20</td>\n",
       "      <td>C Horner</td>\n",
       "      <td>\"one of the most disgusting onboard meals\"</td>\n",
       "      <td>Check in was chaotic and badly organised. Even...</td>\n",
       "      <td>Trip Verified</td>\n",
       "      <td>Solo Leisure</td>\n",
       "      <td>Business Class</td>\n",
       "      <td>Gran Canaria  to London Gatwick</td>\n",
       "      <td>December 2023</td>\n",
       "      <td>A321</td>\n",
       "      <td>3.0</td>\n",
       "      <td>4.0</td>\n",
       "      <td>1.0</td>\n",
       "      <td>NaN</td>\n",
       "      <td>3.0</td>\n",
       "      <td>5</td>\n",
       "      <td>NaN</td>\n",
       "      <td>6</td>\n",
       "      <td>yes</td>\n",
       "    </tr>\n",
       "    <tr>\n",
       "      <th>4</th>\n",
       "      <td>2023-12-18</td>\n",
       "      <td>C Lowe</td>\n",
       "      <td>“Does BA pay experts to design these breakfasts”</td>\n",
       "      <td>All 4 of our flights were fine in terms of com...</td>\n",
       "      <td>Not Verified</td>\n",
       "      <td>Couple Leisure</td>\n",
       "      <td>Business Class</td>\n",
       "      <td>Belfast City to Atlanta via London Heathrow</td>\n",
       "      <td>November 2023</td>\n",
       "      <td>A320/Boeing 777</td>\n",
       "      <td>4.0</td>\n",
       "      <td>5.0</td>\n",
       "      <td>1.0</td>\n",
       "      <td>3.0</td>\n",
       "      <td>5.0</td>\n",
       "      <td>5</td>\n",
       "      <td>NaN</td>\n",
       "      <td>6</td>\n",
       "      <td>yes</td>\n",
       "    </tr>\n",
       "    <tr>\n",
       "      <th>...</th>\n",
       "      <td>...</td>\n",
       "      <td>...</td>\n",
       "      <td>...</td>\n",
       "      <td>...</td>\n",
       "      <td>...</td>\n",
       "      <td>...</td>\n",
       "      <td>...</td>\n",
       "      <td>...</td>\n",
       "      <td>...</td>\n",
       "      <td>...</td>\n",
       "      <td>...</td>\n",
       "      <td>...</td>\n",
       "      <td>...</td>\n",
       "      <td>...</td>\n",
       "      <td>...</td>\n",
       "      <td>...</td>\n",
       "      <td>...</td>\n",
       "      <td>...</td>\n",
       "      <td>...</td>\n",
       "    </tr>\n",
       "    <tr>\n",
       "      <th>2995</th>\n",
       "      <td>2015-05-20</td>\n",
       "      <td>D Chamberlain</td>\n",
       "      <td>British Airways customer review</td>\n",
       "      <td>LHR to Istanbul - excellent service on the out...</td>\n",
       "      <td>Unknown</td>\n",
       "      <td>NaN</td>\n",
       "      <td>Business Class</td>\n",
       "      <td>NaN</td>\n",
       "      <td>NaN</td>\n",
       "      <td>NaN</td>\n",
       "      <td>4.0</td>\n",
       "      <td>4.0</td>\n",
       "      <td>4.0</td>\n",
       "      <td>2.0</td>\n",
       "      <td>NaN</td>\n",
       "      <td>4</td>\n",
       "      <td>NaN</td>\n",
       "      <td>8</td>\n",
       "      <td>yes</td>\n",
       "    </tr>\n",
       "    <tr>\n",
       "      <th>2996</th>\n",
       "      <td>2015-05-20</td>\n",
       "      <td>D Chamberlain</td>\n",
       "      <td>British Airways customer review</td>\n",
       "      <td>Brilliant service from the cabin crew and Capt...</td>\n",
       "      <td>Unknown</td>\n",
       "      <td>NaN</td>\n",
       "      <td>Business Class</td>\n",
       "      <td>NaN</td>\n",
       "      <td>NaN</td>\n",
       "      <td>NaN</td>\n",
       "      <td>4.0</td>\n",
       "      <td>5.0</td>\n",
       "      <td>5.0</td>\n",
       "      <td>1.0</td>\n",
       "      <td>NaN</td>\n",
       "      <td>3</td>\n",
       "      <td>NaN</td>\n",
       "      <td>6</td>\n",
       "      <td>yes</td>\n",
       "    </tr>\n",
       "    <tr>\n",
       "      <th>2997</th>\n",
       "      <td>2015-05-20</td>\n",
       "      <td>W Coenik</td>\n",
       "      <td>British Airways customer review</td>\n",
       "      <td>Business class. Scheduled to fly from Rome to ...</td>\n",
       "      <td>Unknown</td>\n",
       "      <td>NaN</td>\n",
       "      <td>Business Class</td>\n",
       "      <td>NaN</td>\n",
       "      <td>NaN</td>\n",
       "      <td>NaN</td>\n",
       "      <td>4.0</td>\n",
       "      <td>5.0</td>\n",
       "      <td>5.0</td>\n",
       "      <td>3.0</td>\n",
       "      <td>NaN</td>\n",
       "      <td>4</td>\n",
       "      <td>NaN</td>\n",
       "      <td>10</td>\n",
       "      <td>yes</td>\n",
       "    </tr>\n",
       "    <tr>\n",
       "      <th>2998</th>\n",
       "      <td>2015-05-20</td>\n",
       "      <td>P Evans</td>\n",
       "      <td>British Airways customer review</td>\n",
       "      <td>BA seem to be trying harder ground customer se...</td>\n",
       "      <td>Unknown</td>\n",
       "      <td>NaN</td>\n",
       "      <td>Premium Economy</td>\n",
       "      <td>NaN</td>\n",
       "      <td>NaN</td>\n",
       "      <td>NaN</td>\n",
       "      <td>4.0</td>\n",
       "      <td>5.0</td>\n",
       "      <td>4.0</td>\n",
       "      <td>2.0</td>\n",
       "      <td>NaN</td>\n",
       "      <td>5</td>\n",
       "      <td>NaN</td>\n",
       "      <td>8</td>\n",
       "      <td>yes</td>\n",
       "    </tr>\n",
       "    <tr>\n",
       "      <th>2999</th>\n",
       "      <td>2015-05-20</td>\n",
       "      <td>S Carver</td>\n",
       "      <td>British Airways customer review</td>\n",
       "      <td>Madrid-London City return. Excellent experienc...</td>\n",
       "      <td>Unknown</td>\n",
       "      <td>NaN</td>\n",
       "      <td>Business Class</td>\n",
       "      <td>NaN</td>\n",
       "      <td>NaN</td>\n",
       "      <td>NaN</td>\n",
       "      <td>5.0</td>\n",
       "      <td>5.0</td>\n",
       "      <td>5.0</td>\n",
       "      <td>3.0</td>\n",
       "      <td>NaN</td>\n",
       "      <td>5</td>\n",
       "      <td>NaN</td>\n",
       "      <td>10</td>\n",
       "      <td>yes</td>\n",
       "    </tr>\n",
       "  </tbody>\n",
       "</table>\n",
       "<p>3000 rows × 19 columns</p>\n",
       "</div>"
      ],
      "text/plain": [
       "     Date published           Name  \\\n",
       "0        2023-12-21      T Maddern   \n",
       "1        2023-12-21      K Pearson   \n",
       "2        2023-12-20         C Shaw   \n",
       "3        2023-12-20       C Horner   \n",
       "4        2023-12-18         C Lowe   \n",
       "...             ...            ...   \n",
       "2995     2015-05-20  D Chamberlain   \n",
       "2996     2015-05-20  D Chamberlain   \n",
       "2997     2015-05-20       W Coenik   \n",
       "2998     2015-05-20        P Evans   \n",
       "2999     2015-05-20       S Carver   \n",
       "\n",
       "                                         Review_header  \\\n",
       "0                              “I couldn’t fault them”   \n",
       "1                   “incompetence in customer service”   \n",
       "2               “The most ridiculous thing I've heard”   \n",
       "3           \"one of the most disgusting onboard meals\"   \n",
       "4     “Does BA pay experts to design these breakfasts”   \n",
       "...                                                ...   \n",
       "2995                   British Airways customer review   \n",
       "2996                   British Airways customer review   \n",
       "2997                   British Airways customer review   \n",
       "2998                   British Airways customer review   \n",
       "2999                   British Airways customer review   \n",
       "\n",
       "                                            Review_body Verified_review  \\\n",
       "0     This was our first flight with British Airways...   Trip Verified   \n",
       "1     I recently encountered a highly disappointing ...   Trip Verified   \n",
       "2     Beware! BA don't provide any refund due to a v...    Not Verified   \n",
       "3     Check in was chaotic and badly organised. Even...   Trip Verified   \n",
       "4     All 4 of our flights were fine in terms of com...    Not Verified   \n",
       "...                                                 ...             ...   \n",
       "2995  LHR to Istanbul - excellent service on the out...         Unknown   \n",
       "2996  Brilliant service from the cabin crew and Capt...         Unknown   \n",
       "2997  Business class. Scheduled to fly from Rome to ...         Unknown   \n",
       "2998  BA seem to be trying harder ground customer se...         Unknown   \n",
       "2999  Madrid-London City return. Excellent experienc...         Unknown   \n",
       "\n",
       "     Type_of_traveller        Seat_type  \\\n",
       "0       Family Leisure   Business Class   \n",
       "1         Solo Leisure    Economy Class   \n",
       "2       Family Leisure  Premium Economy   \n",
       "3         Solo Leisure   Business Class   \n",
       "4       Couple Leisure   Business Class   \n",
       "...                ...              ...   \n",
       "2995               NaN   Business Class   \n",
       "2996               NaN   Business Class   \n",
       "2997               NaN   Business Class   \n",
       "2998               NaN  Premium Economy   \n",
       "2999               NaN   Business Class   \n",
       "\n",
       "                                            Route     Date_flown  \\\n",
       "0                    London Heathrow to Stockholm  December 2023   \n",
       "1      Indianapolis to Mumbai via London Heathrow  December 2023   \n",
       "2                              Cyprus to New York  December 2023   \n",
       "3                 Gran Canaria  to London Gatwick  December 2023   \n",
       "4     Belfast City to Atlanta via London Heathrow  November 2023   \n",
       "...                                           ...            ...   \n",
       "2995                                          NaN            NaN   \n",
       "2996                                          NaN            NaN   \n",
       "2997                                          NaN            NaN   \n",
       "2998                                          NaN            NaN   \n",
       "2999                                          NaN            NaN   \n",
       "\n",
       "             Aircraft  Seat_comfort  Cabin_staff_service  Food_and_beverages  \\\n",
       "0                A329           4.0                  5.0                 5.0   \n",
       "1                 NaN           1.0                  1.0                 NaN   \n",
       "2                 NaN           NaN                  NaN                 NaN   \n",
       "3                A321           3.0                  4.0                 1.0   \n",
       "4     A320/Boeing 777           4.0                  5.0                 1.0   \n",
       "...               ...           ...                  ...                 ...   \n",
       "2995              NaN           4.0                  4.0                 4.0   \n",
       "2996              NaN           4.0                  5.0                 5.0   \n",
       "2997              NaN           4.0                  5.0                 5.0   \n",
       "2998              NaN           4.0                  5.0                 4.0   \n",
       "2999              NaN           5.0                  5.0                 5.0   \n",
       "\n",
       "      Inflight_entertainments  Ground_service  Value_for_money  \\\n",
       "0                         NaN             5.0                5   \n",
       "1                         NaN             1.0                1   \n",
       "2                         NaN             1.0                1   \n",
       "3                         NaN             3.0                5   \n",
       "4                         3.0             5.0                5   \n",
       "...                       ...             ...              ...   \n",
       "2995                      2.0             NaN                4   \n",
       "2996                      1.0             NaN                3   \n",
       "2997                      3.0             NaN                4   \n",
       "2998                      2.0             NaN                5   \n",
       "2999                      3.0             NaN                5   \n",
       "\n",
       "      Wifi_and_connectivity  Overall_rating Recommended  \n",
       "0                       NaN              10         yes  \n",
       "1                       NaN               1          no  \n",
       "2                       NaN               1          no  \n",
       "3                       NaN               6         yes  \n",
       "4                       NaN               6         yes  \n",
       "...                     ...             ...         ...  \n",
       "2995                    NaN               8         yes  \n",
       "2996                    NaN               6         yes  \n",
       "2997                    NaN              10         yes  \n",
       "2998                    NaN               8         yes  \n",
       "2999                    NaN              10         yes  \n",
       "\n",
       "[3000 rows x 19 columns]"
      ]
     },
     "execution_count": 2,
     "metadata": {},
     "output_type": "execute_result"
    }
   ],
   "source": [
    "raw_df = pd.read_csv('../data/customer_feedback.csv')\n",
    "raw_df"
   ]
  },
  {
   "cell_type": "markdown",
   "id": "69cd3498-5c4d-481a-8df6-c186dd9d580c",
   "metadata": {},
   "source": [
    "### 2.1 Định dạng lại tên cột\n",
    "- Đổi định dạng tên cột `Date published` thành `Date_published` để cùng định dạng tên với các cột còn lại."
   ]
  },
  {
   "cell_type": "code",
   "execution_count": 3,
   "id": "8dba3542-df30-41c3-86fc-c4b8cfe550be",
   "metadata": {},
   "outputs": [],
   "source": [
    "raw_df = raw_df.rename(columns={'Date published': 'Date_published'})"
   ]
  },
  {
   "cell_type": "markdown",
   "id": "750df870-301e-4e19-b0de-a50da58935bc",
   "metadata": {},
   "source": [
    "### 2.2 Số lượng dòng và cột trong tập dữ liệu là bao nhiêu?"
   ]
  },
  {
   "cell_type": "code",
   "execution_count": 4,
   "id": "f05fa3f1-35c5-45c9-8531-c5a32711d735",
   "metadata": {},
   "outputs": [
    {
     "name": "stdout",
     "output_type": "stream",
     "text": [
      "Số lượng dòng: 3000\n",
      "Số lượng cột: 19\n"
     ]
    }
   ],
   "source": [
    "shape = raw_df.shape\n",
    "nrows = shape[0]\n",
    "ncols = shape[1]\n",
    "\n",
    "print(f'Số lượng dòng: {nrows}')\n",
    "print(f'Số lượng cột: {ncols}')"
   ]
  },
  {
   "cell_type": "markdown",
   "id": "aceab280-a902-4fad-966c-625c19b106f9",
   "metadata": {},
   "source": [
    "### 2.3 Khám phá dòng"
   ]
  },
  {
   "cell_type": "markdown",
   "id": "26793d4d-2b8f-4caf-8daf-167e7be15a36",
   "metadata": {},
   "source": [
    "#### 2.3.1 Mỗi dòng mang ý nghĩa gì? Có dòng nào mang ý nghĩa khác không?\n",
    "- Mỗi dòng cho biết thông tin chuyến bay và đánh giá của một hành khách về chuyến bay đó của hãng hàng không British Airways.\n",
    "- Nhìn vào bảng dữ liệu chúng ta thấy không có dòng nào mang ý nghĩa khác."
   ]
  },
  {
   "cell_type": "markdown",
   "id": "94716f5e-686b-458a-9412-f6c1c4b0f968",
   "metadata": {},
   "source": [
    "#### 2.3.2 Có dòng nào bị trùng lắp thông tin không?"
   ]
  },
  {
   "cell_type": "code",
   "execution_count": 5,
   "id": "76747a7a-8f90-42c5-9476-cb39697a44cc",
   "metadata": {},
   "outputs": [
    {
     "name": "stdout",
     "output_type": "stream",
     "text": [
      "Số lượng dòng bị trùng lắp: 0\n"
     ]
    }
   ],
   "source": [
    "num_duplicate_rows = raw_df.duplicated().sum()\n",
    "\n",
    "print(f'Số lượng dòng bị trùng lắp: {num_duplicate_rows}')"
   ]
  },
  {
   "cell_type": "markdown",
   "id": "97f8afc2-25d9-4d00-9267-446004b9c141",
   "metadata": {},
   "source": [
    "### 2.4 Khám phá cột"
   ]
  },
  {
   "cell_type": "markdown",
   "id": "3bf45f16-6bdc-4a9a-b109-c28e21ab72d4",
   "metadata": {},
   "source": [
    "#### 2.4.1 Mỗi cột mang ý nghĩa gì? "
   ]
  },
  {
   "cell_type": "code",
   "execution_count": 6,
   "id": "98e4ae67-f360-4d8f-8fe1-7ef97f5b11f7",
   "metadata": {},
   "outputs": [
    {
     "data": {
      "text/html": [
       "<div>\n",
       "<style scoped>\n",
       "    .dataframe tbody tr th:only-of-type {\n",
       "        vertical-align: middle;\n",
       "    }\n",
       "\n",
       "    .dataframe tbody tr th {\n",
       "        vertical-align: top;\n",
       "    }\n",
       "\n",
       "    .dataframe thead th {\n",
       "        text-align: right;\n",
       "    }\n",
       "</style>\n",
       "<table border=\"1\" class=\"dataframe\">\n",
       "  <thead>\n",
       "    <tr style=\"text-align: right;\">\n",
       "      <th></th>\n",
       "      <th>Meaning</th>\n",
       "    </tr>\n",
       "    <tr>\n",
       "      <th>Column</th>\n",
       "      <th></th>\n",
       "    </tr>\n",
       "  </thead>\n",
       "  <tbody>\n",
       "    <tr>\n",
       "      <th>Date_published</th>\n",
       "      <td>thời gian bài đánh giá được đăng</td>\n",
       "    </tr>\n",
       "    <tr>\n",
       "      <th>Name</th>\n",
       "      <td>tên hành khách đánh giá</td>\n",
       "    </tr>\n",
       "    <tr>\n",
       "      <th>Review_header</th>\n",
       "      <td>tiêu đề bài đánh giá</td>\n",
       "    </tr>\n",
       "    <tr>\n",
       "      <th>Review_body</th>\n",
       "      <td>nội dung bài đánh giá</td>\n",
       "    </tr>\n",
       "    <tr>\n",
       "      <th>Verified_review</th>\n",
       "      <td>đánh giá được xác minh/chưa được xác minh</td>\n",
       "    </tr>\n",
       "    <tr>\n",
       "      <th>Type_of_traveller</th>\n",
       "      <td>loại khách du lịch</td>\n",
       "    </tr>\n",
       "    <tr>\n",
       "      <th>Seat_type</th>\n",
       "      <td>loại chỗ ngồi</td>\n",
       "    </tr>\n",
       "    <tr>\n",
       "      <th>Route</th>\n",
       "      <td>tuyến đường bay</td>\n",
       "    </tr>\n",
       "    <tr>\n",
       "      <th>Date_flown</th>\n",
       "      <td>ngày khởi hành bay</td>\n",
       "    </tr>\n",
       "    <tr>\n",
       "      <th>Air craft</th>\n",
       "      <td>loại máy bay</td>\n",
       "    </tr>\n",
       "    <tr>\n",
       "      <th>Seat_comfort</th>\n",
       "      <td>đánh giá về chỗ ngồi</td>\n",
       "    </tr>\n",
       "    <tr>\n",
       "      <th>Cabin_staff_service</th>\n",
       "      <td>đánh giá về chất lượng phục vụ của nhân viên</td>\n",
       "    </tr>\n",
       "    <tr>\n",
       "      <th>Food_and_beverages</th>\n",
       "      <td>đánh giá về thức ăn và đồ uống</td>\n",
       "    </tr>\n",
       "    <tr>\n",
       "      <th>Inflight_entertainments</th>\n",
       "      <td>đánh giá về các dịch vụ giải trí trên máy bay</td>\n",
       "    </tr>\n",
       "    <tr>\n",
       "      <th>Ground_service</th>\n",
       "      <td>đánh giá về các dịch vụ diễn ra trên mặt đất</td>\n",
       "    </tr>\n",
       "    <tr>\n",
       "      <th>Value_for_money</th>\n",
       "      <td>mức độ hài lòng với số tiền bỏ ra</td>\n",
       "    </tr>\n",
       "    <tr>\n",
       "      <th>Wifi_and_connectivity</th>\n",
       "      <td>mức độ hài lòng về Wifi và khả năng kết nối</td>\n",
       "    </tr>\n",
       "    <tr>\n",
       "      <th>Overall_rating</th>\n",
       "      <td>đánh giá tổng quan</td>\n",
       "    </tr>\n",
       "    <tr>\n",
       "      <th>Recommended</th>\n",
       "      <td>gợi ý/không gợi ý hãng hàng không British Airways</td>\n",
       "    </tr>\n",
       "  </tbody>\n",
       "</table>\n",
       "</div>"
      ],
      "text/plain": [
       "                                                                   Meaning\n",
       "Column                                                                    \n",
       "Date_published                            thời gian bài đánh giá được đăng\n",
       "Name                                               tên hành khách đánh giá\n",
       "Review_header                                         tiêu đề bài đánh giá\n",
       "Review_body                                          nội dung bài đánh giá\n",
       "Verified_review                  đánh giá được xác minh/chưa được xác minh\n",
       "Type_of_traveller                                       loại khách du lịch\n",
       "Seat_type                                                    loại chỗ ngồi\n",
       "Route                                                      tuyến đường bay\n",
       "Date_flown                                              ngày khởi hành bay\n",
       "Air craft                                                     loại máy bay\n",
       "Seat_comfort                                          đánh giá về chỗ ngồi\n",
       "Cabin_staff_service           đánh giá về chất lượng phục vụ của nhân viên\n",
       "Food_and_beverages                          đánh giá về thức ăn và đồ uống\n",
       "Inflight_entertainments      đánh giá về các dịch vụ giải trí trên máy bay\n",
       "Ground_service                đánh giá về các dịch vụ diễn ra trên mặt đất\n",
       "Value_for_money                          mức độ hài lòng với số tiền bỏ ra\n",
       "Wifi_and_connectivity         mức độ hài lòng về Wifi và khả năng kết nối \n",
       "Overall_rating                                          đánh giá tổng quan\n",
       "Recommended              gợi ý/không gợi ý hãng hàng không British Airways"
      ]
     },
     "execution_count": 6,
     "metadata": {},
     "output_type": "execute_result"
    }
   ],
   "source": [
    "col_meaning_df = pd.read_csv('../data/schema.csv', index_col='Column')\n",
    "col_meaning_df"
   ]
  },
  {
   "cell_type": "markdown",
   "id": "c2c32172-a9a7-4c91-80ed-cd66d4c3e5f7",
   "metadata": {},
   "source": [
    "#### 2.4.2 Có cột nào bị trùng lắp thông tin không?\n",
    "- Nhìn vào bảng dữ liệu chúng ta thấy không có cột nào bị trùng lắp thông tin, mỗi cột đều mang một ý nghĩa khác nhau."
   ]
  },
  {
   "cell_type": "markdown",
   "id": "34e07adb-bb51-4377-aa35-c7f456f72cae",
   "metadata": {},
   "source": [
    "#### 2.4.3 Lọc ra các cột quan tâm\n",
    "- Do nhóm chỉ tập trung vào việc phân tích đánh giá của các hành khách về hãng bay nên nhóm sẽ loại bỏ hai cột `Review_header` và `Review_body`. "
   ]
  },
  {
   "cell_type": "code",
   "execution_count": 7,
   "id": "2946a767-92f6-4679-849b-e452a60601f9",
   "metadata": {},
   "outputs": [],
   "source": [
    "raw_df = raw_df.drop(columns=['Review_header', 'Review_body'])"
   ]
  },
  {
   "cell_type": "markdown",
   "id": "ca8b68f5-7693-46bb-b8e2-9afb3df8f055",
   "metadata": {},
   "source": [
    "#### 2.4.4 Xem thông tin tổng quát của từng cột"
   ]
  },
  {
   "cell_type": "code",
   "execution_count": 8,
   "id": "aa947ba3-3512-4b1e-9037-5068cb3900a9",
   "metadata": {},
   "outputs": [
    {
     "name": "stdout",
     "output_type": "stream",
     "text": [
      "<class 'pandas.core.frame.DataFrame'>\n",
      "RangeIndex: 3000 entries, 0 to 2999\n",
      "Data columns (total 17 columns):\n",
      " #   Column                   Non-Null Count  Dtype  \n",
      "---  ------                   --------------  -----  \n",
      " 0   Date_published           3000 non-null   object \n",
      " 1   Name                     3000 non-null   object \n",
      " 2   Verified_review          3000 non-null   object \n",
      " 3   Type_of_traveller        2950 non-null   object \n",
      " 4   Seat_type                2998 non-null   object \n",
      " 5   Route                    2946 non-null   object \n",
      " 6   Date_flown               2943 non-null   object \n",
      " 7   Aircraft                 1934 non-null   object \n",
      " 8   Seat_comfort             2884 non-null   float64\n",
      " 9   Cabin_staff_service      2872 non-null   float64\n",
      " 10  Food_and_beverages       2611 non-null   float64\n",
      " 11  Inflight_entertainments  1852 non-null   float64\n",
      " 12  Ground_service           2875 non-null   float64\n",
      " 13  Value_for_money          3000 non-null   int64  \n",
      " 14  Wifi_and_connectivity    617 non-null    float64\n",
      " 15  Overall_rating           3000 non-null   int64  \n",
      " 16  Recommended              3000 non-null   object \n",
      "dtypes: float64(6), int64(2), object(9)\n",
      "memory usage: 398.6+ KB\n"
     ]
    }
   ],
   "source": [
    "raw_df.info()"
   ]
  },
  {
   "cell_type": "markdown",
   "id": "42e38802-b637-4695-ad3a-71487245933e",
   "metadata": {},
   "source": [
    "#### 2.4.5 Loại bỏ cột có phần trăm dữ liệu bị thiếu cao (lớn hơn 70%)\n",
    "- Cột `Wifi_and_connectivity` có phần trăm dữ liệu bị thiếu xấp xỉ `79%`, cần loại bỏ cột này."
   ]
  },
  {
   "cell_type": "code",
   "execution_count": 9,
   "id": "d22984ea-a82e-4dc2-b315-673aab7c20fb",
   "metadata": {},
   "outputs": [],
   "source": [
    "raw_df = raw_df.drop(columns='Wifi_and_connectivity')"
   ]
  },
  {
   "cell_type": "markdown",
   "id": "6a0f8935-8481-42fd-afc0-ddd7e1a1deaf",
   "metadata": {},
   "source": [
    "#### 2.4.6 Chuyển đổi dữ liệu sang kiểu phù hợp\n",
    "- Các cột `Date_published` và `Date_flown` có kiểu dữ liệu **object**, cần đổi về kiểu dữ liệu **datetime**."
   ]
  },
  {
   "cell_type": "code",
   "execution_count": 10,
   "id": "e1a432e1-5ad1-4557-a4cc-828bf35fac91",
   "metadata": {},
   "outputs": [],
   "source": [
    "# Convert sang datetime\n",
    "raw_df['Date_published'] = pd.to_datetime(raw_df['Date_published'], format='%Y-%m-%d')\n",
    "raw_df['Date_flown'] = pd.to_datetime(raw_df['Date_flown'], format='%B %Y')"
   ]
  },
  {
   "cell_type": "markdown",
   "id": "fee3a260-d248-4b26-b0f5-73efb0527d53",
   "metadata": {},
   "source": [
    "#### 2.4.7 Xử lý chuỗi\n",
    "- Các giá trị trong cột `Route` cần được tách và lấy ra các thông tin cần thiết. Ví dụ: `Miami to Zurich via London` tách thành [Miami, Zurich, London].\n",
    "- Không thể xử lý được toàn bộ các giá trị trong cột `Aircraft` do dữ liệu được ghi ở nhiều định dạng khác nhau. Việc bỏ đi cột `Aircraft` không làm ảnh hưởng nhiều đến việc phân tích và dự đoán sau này do cột này không mang lại nhiều thông tin có giá trị."
   ]
  },
  {
   "cell_type": "code",
   "execution_count": 11,
   "id": "37957153-1cc5-485c-86df-e11570b5be93",
   "metadata": {},
   "outputs": [
    {
     "name": "stdout",
     "output_type": "stream",
     "text": [
      "<class 'pandas.core.frame.DataFrame'>\n",
      "RangeIndex: 3000 entries, 0 to 2999\n",
      "Data columns (total 15 columns):\n",
      " #   Column                   Non-Null Count  Dtype         \n",
      "---  ------                   --------------  -----         \n",
      " 0   Date_published           3000 non-null   datetime64[ns]\n",
      " 1   Name                     3000 non-null   object        \n",
      " 2   Verified_review          3000 non-null   object        \n",
      " 3   Type_of_traveller        2950 non-null   object        \n",
      " 4   Seat_type                2998 non-null   object        \n",
      " 5   Route                    2946 non-null   object        \n",
      " 6   Date_flown               2943 non-null   datetime64[ns]\n",
      " 7   Seat_comfort             2884 non-null   float64       \n",
      " 8   Cabin_staff_service      2872 non-null   float64       \n",
      " 9   Food_and_beverages       2611 non-null   float64       \n",
      " 10  Inflight_entertainments  1852 non-null   float64       \n",
      " 11  Ground_service           2875 non-null   float64       \n",
      " 12  Value_for_money          3000 non-null   int64         \n",
      " 13  Overall_rating           3000 non-null   int64         \n",
      " 14  Recommended              3000 non-null   object        \n",
      "dtypes: datetime64[ns](2), float64(5), int64(2), object(6)\n",
      "memory usage: 351.7+ KB\n"
     ]
    }
   ],
   "source": [
    "# Tách chuỗi trong cột Route\n",
    "raw_df['Route'] = raw_df['Route'].str.rstrip(', ').str.upper()\n",
    "raw_df['Route'] = raw_df['Route'].replace(r' RETURN', '', regex=True)\n",
    "raw_df['Route'] = raw_df['Route'].str.split(r'\\s* TO \\s*|\\s* VIA \\s*|\\s*\\/\\s*|\\s*,\\s*|\\s*-\\s*|\\s* OR \\s*|\\s*&\\s*', regex=True)\n",
    "\n",
    "# Drop cột Aircraft\n",
    "raw_df = raw_df.drop(columns='Aircraft')\n",
    "\n",
    "# Xem lại thông tin dữ liệu\n",
    "raw_df.info()"
   ]
  },
  {
   "cell_type": "markdown",
   "id": "47875e87-b393-48b9-9f2b-44b5ba5dfe9f",
   "metadata": {},
   "source": [
    "#### 2.4.8 Phân bố dữ liệu ở các cột có dữ liệu số"
   ]
  },
  {
   "cell_type": "markdown",
   "id": "efddacb2-8467-46ae-9440-0886f829c561",
   "metadata": {},
   "source": [
    "##### 2.4.8.1 Trong các cột dữ liệu số (numeric), các dữ liệu được phân bố như thế nào?"
   ]
  },
  {
   "cell_type": "code",
   "execution_count": 12,
   "id": "542eed6e-5644-49db-b6e1-82911259190f",
   "metadata": {},
   "outputs": [
    {
     "data": {
      "text/html": [
       "<div>\n",
       "<style scoped>\n",
       "    .dataframe tbody tr th:only-of-type {\n",
       "        vertical-align: middle;\n",
       "    }\n",
       "\n",
       "    .dataframe tbody tr th {\n",
       "        vertical-align: top;\n",
       "    }\n",
       "\n",
       "    .dataframe thead th {\n",
       "        text-align: right;\n",
       "    }\n",
       "</style>\n",
       "<table border=\"1\" class=\"dataframe\">\n",
       "  <thead>\n",
       "    <tr style=\"text-align: right;\">\n",
       "      <th></th>\n",
       "      <th>Seat_comfort</th>\n",
       "      <th>Cabin_staff_service</th>\n",
       "      <th>Food_and_beverages</th>\n",
       "      <th>Inflight_entertainments</th>\n",
       "      <th>Ground_service</th>\n",
       "      <th>Value_for_money</th>\n",
       "      <th>Overall_rating</th>\n",
       "    </tr>\n",
       "  </thead>\n",
       "  <tbody>\n",
       "    <tr>\n",
       "      <th>0</th>\n",
       "      <td>4.0</td>\n",
       "      <td>5.0</td>\n",
       "      <td>5.0</td>\n",
       "      <td>NaN</td>\n",
       "      <td>5.0</td>\n",
       "      <td>5</td>\n",
       "      <td>10</td>\n",
       "    </tr>\n",
       "    <tr>\n",
       "      <th>1</th>\n",
       "      <td>1.0</td>\n",
       "      <td>1.0</td>\n",
       "      <td>NaN</td>\n",
       "      <td>NaN</td>\n",
       "      <td>1.0</td>\n",
       "      <td>1</td>\n",
       "      <td>1</td>\n",
       "    </tr>\n",
       "    <tr>\n",
       "      <th>2</th>\n",
       "      <td>NaN</td>\n",
       "      <td>NaN</td>\n",
       "      <td>NaN</td>\n",
       "      <td>NaN</td>\n",
       "      <td>1.0</td>\n",
       "      <td>1</td>\n",
       "      <td>1</td>\n",
       "    </tr>\n",
       "    <tr>\n",
       "      <th>3</th>\n",
       "      <td>3.0</td>\n",
       "      <td>4.0</td>\n",
       "      <td>1.0</td>\n",
       "      <td>NaN</td>\n",
       "      <td>3.0</td>\n",
       "      <td>5</td>\n",
       "      <td>6</td>\n",
       "    </tr>\n",
       "    <tr>\n",
       "      <th>4</th>\n",
       "      <td>4.0</td>\n",
       "      <td>5.0</td>\n",
       "      <td>1.0</td>\n",
       "      <td>3.0</td>\n",
       "      <td>5.0</td>\n",
       "      <td>5</td>\n",
       "      <td>6</td>\n",
       "    </tr>\n",
       "    <tr>\n",
       "      <th>...</th>\n",
       "      <td>...</td>\n",
       "      <td>...</td>\n",
       "      <td>...</td>\n",
       "      <td>...</td>\n",
       "      <td>...</td>\n",
       "      <td>...</td>\n",
       "      <td>...</td>\n",
       "    </tr>\n",
       "    <tr>\n",
       "      <th>2995</th>\n",
       "      <td>4.0</td>\n",
       "      <td>4.0</td>\n",
       "      <td>4.0</td>\n",
       "      <td>2.0</td>\n",
       "      <td>NaN</td>\n",
       "      <td>4</td>\n",
       "      <td>8</td>\n",
       "    </tr>\n",
       "    <tr>\n",
       "      <th>2996</th>\n",
       "      <td>4.0</td>\n",
       "      <td>5.0</td>\n",
       "      <td>5.0</td>\n",
       "      <td>1.0</td>\n",
       "      <td>NaN</td>\n",
       "      <td>3</td>\n",
       "      <td>6</td>\n",
       "    </tr>\n",
       "    <tr>\n",
       "      <th>2997</th>\n",
       "      <td>4.0</td>\n",
       "      <td>5.0</td>\n",
       "      <td>5.0</td>\n",
       "      <td>3.0</td>\n",
       "      <td>NaN</td>\n",
       "      <td>4</td>\n",
       "      <td>10</td>\n",
       "    </tr>\n",
       "    <tr>\n",
       "      <th>2998</th>\n",
       "      <td>4.0</td>\n",
       "      <td>5.0</td>\n",
       "      <td>4.0</td>\n",
       "      <td>2.0</td>\n",
       "      <td>NaN</td>\n",
       "      <td>5</td>\n",
       "      <td>8</td>\n",
       "    </tr>\n",
       "    <tr>\n",
       "      <th>2999</th>\n",
       "      <td>5.0</td>\n",
       "      <td>5.0</td>\n",
       "      <td>5.0</td>\n",
       "      <td>3.0</td>\n",
       "      <td>NaN</td>\n",
       "      <td>5</td>\n",
       "      <td>10</td>\n",
       "    </tr>\n",
       "  </tbody>\n",
       "</table>\n",
       "<p>3000 rows × 7 columns</p>\n",
       "</div>"
      ],
      "text/plain": [
       "      Seat_comfort  Cabin_staff_service  Food_and_beverages  \\\n",
       "0              4.0                  5.0                 5.0   \n",
       "1              1.0                  1.0                 NaN   \n",
       "2              NaN                  NaN                 NaN   \n",
       "3              3.0                  4.0                 1.0   \n",
       "4              4.0                  5.0                 1.0   \n",
       "...            ...                  ...                 ...   \n",
       "2995           4.0                  4.0                 4.0   \n",
       "2996           4.0                  5.0                 5.0   \n",
       "2997           4.0                  5.0                 5.0   \n",
       "2998           4.0                  5.0                 4.0   \n",
       "2999           5.0                  5.0                 5.0   \n",
       "\n",
       "      Inflight_entertainments  Ground_service  Value_for_money  Overall_rating  \n",
       "0                         NaN             5.0                5              10  \n",
       "1                         NaN             1.0                1               1  \n",
       "2                         NaN             1.0                1               1  \n",
       "3                         NaN             3.0                5               6  \n",
       "4                         3.0             5.0                5               6  \n",
       "...                       ...             ...              ...             ...  \n",
       "2995                      2.0             NaN                4               8  \n",
       "2996                      1.0             NaN                3               6  \n",
       "2997                      3.0             NaN                4              10  \n",
       "2998                      2.0             NaN                5               8  \n",
       "2999                      3.0             NaN                5              10  \n",
       "\n",
       "[3000 rows x 7 columns]"
      ]
     },
     "execution_count": 12,
     "metadata": {},
     "output_type": "execute_result"
    }
   ],
   "source": [
    "num_col_info_df = raw_df.select_dtypes(include=['int64', 'float64'])\n",
    "num_col_info_df"
   ]
  },
  {
   "cell_type": "code",
   "execution_count": 13,
   "id": "40b66b7f-44e9-4565-b772-08214b7cb487",
   "metadata": {},
   "outputs": [
    {
     "data": {
      "text/html": [
       "<div>\n",
       "<style scoped>\n",
       "    .dataframe tbody tr th:only-of-type {\n",
       "        vertical-align: middle;\n",
       "    }\n",
       "\n",
       "    .dataframe tbody tr th {\n",
       "        vertical-align: top;\n",
       "    }\n",
       "\n",
       "    .dataframe thead th {\n",
       "        text-align: right;\n",
       "    }\n",
       "</style>\n",
       "<table border=\"1\" class=\"dataframe\">\n",
       "  <thead>\n",
       "    <tr style=\"text-align: right;\">\n",
       "      <th></th>\n",
       "      <th>Seat_comfort</th>\n",
       "      <th>Cabin_staff_service</th>\n",
       "      <th>Food_and_beverages</th>\n",
       "      <th>Inflight_entertainments</th>\n",
       "      <th>Ground_service</th>\n",
       "      <th>Value_for_money</th>\n",
       "      <th>Overall_rating</th>\n",
       "    </tr>\n",
       "  </thead>\n",
       "  <tbody>\n",
       "    <tr>\n",
       "      <th>missing_ratio</th>\n",
       "      <td>3.9</td>\n",
       "      <td>4.3</td>\n",
       "      <td>13.0</td>\n",
       "      <td>38.3</td>\n",
       "      <td>4.2</td>\n",
       "      <td>0.0</td>\n",
       "      <td>0.0</td>\n",
       "    </tr>\n",
       "    <tr>\n",
       "      <th>min</th>\n",
       "      <td>1.0</td>\n",
       "      <td>1.0</td>\n",
       "      <td>1.0</td>\n",
       "      <td>1.0</td>\n",
       "      <td>1.0</td>\n",
       "      <td>1.0</td>\n",
       "      <td>1.0</td>\n",
       "    </tr>\n",
       "    <tr>\n",
       "      <th>lower_quartile</th>\n",
       "      <td>2.0</td>\n",
       "      <td>2.0</td>\n",
       "      <td>1.0</td>\n",
       "      <td>1.0</td>\n",
       "      <td>1.0</td>\n",
       "      <td>1.0</td>\n",
       "      <td>1.0</td>\n",
       "    </tr>\n",
       "    <tr>\n",
       "      <th>median</th>\n",
       "      <td>3.0</td>\n",
       "      <td>3.0</td>\n",
       "      <td>2.0</td>\n",
       "      <td>3.0</td>\n",
       "      <td>3.0</td>\n",
       "      <td>2.0</td>\n",
       "      <td>3.0</td>\n",
       "    </tr>\n",
       "    <tr>\n",
       "      <th>upper_quartile</th>\n",
       "      <td>4.0</td>\n",
       "      <td>5.0</td>\n",
       "      <td>4.0</td>\n",
       "      <td>4.0</td>\n",
       "      <td>4.0</td>\n",
       "      <td>4.0</td>\n",
       "      <td>7.0</td>\n",
       "    </tr>\n",
       "    <tr>\n",
       "      <th>max</th>\n",
       "      <td>5.0</td>\n",
       "      <td>5.0</td>\n",
       "      <td>5.0</td>\n",
       "      <td>5.0</td>\n",
       "      <td>5.0</td>\n",
       "      <td>5.0</td>\n",
       "      <td>10.0</td>\n",
       "    </tr>\n",
       "  </tbody>\n",
       "</table>\n",
       "</div>"
      ],
      "text/plain": [
       "                Seat_comfort  Cabin_staff_service  Food_and_beverages  \\\n",
       "missing_ratio            3.9                  4.3                13.0   \n",
       "min                      1.0                  1.0                 1.0   \n",
       "lower_quartile           2.0                  2.0                 1.0   \n",
       "median                   3.0                  3.0                 2.0   \n",
       "upper_quartile           4.0                  5.0                 4.0   \n",
       "max                      5.0                  5.0                 5.0   \n",
       "\n",
       "                Inflight_entertainments  Ground_service  Value_for_money  \\\n",
       "missing_ratio                      38.3             4.2              0.0   \n",
       "min                                 1.0             1.0              1.0   \n",
       "lower_quartile                      1.0             1.0              1.0   \n",
       "median                              3.0             3.0              2.0   \n",
       "upper_quartile                      4.0             4.0              4.0   \n",
       "max                                 5.0             5.0              5.0   \n",
       "\n",
       "                Overall_rating  \n",
       "missing_ratio              0.0  \n",
       "min                        1.0  \n",
       "lower_quartile             1.0  \n",
       "median                     3.0  \n",
       "upper_quartile             7.0  \n",
       "max                       10.0  "
      ]
     },
     "execution_count": 13,
     "metadata": {},
     "output_type": "execute_result"
    }
   ],
   "source": [
    "# Các hàm tính missing ratio, min, max cũng như các phân vị (làm tròn 1 chữ số thập phân)\n",
    "def missing_ratio(col):\n",
    "    return (col.isna().sum() *100/ len(col)).round(1)\n",
    "def lower_quartile(col):\n",
    "    return (col.quantile(0.25)).round(1)\n",
    "def median(col):\n",
    "    return (col.quantile(0.5)).round(1)\n",
    "def upper_quartile(col):\n",
    "    return (col.quantile(0.75)).round(1)\n",
    "\n",
    "num_col_info_df = num_col_info_df.agg([missing_ratio, \"min\", lower_quartile, median, upper_quartile, \"max\"])\n",
    "num_col_info_df"
   ]
  },
  {
   "cell_type": "markdown",
   "id": "2f2f8f7d-b6c4-43aa-8e5c-bc1070e75d4c",
   "metadata": {},
   "source": [
    "##### 2.4.8.2 Trực quan hóa missing ratio của từng cột"
   ]
  },
  {
   "cell_type": "code",
   "execution_count": 14,
   "id": "7896a8f4-73b9-49ed-86ae-b1432b6f0288",
   "metadata": {},
   "outputs": [
    {
     "data": {
      "image/png": "[encoded data removed]",
      "text/plain": [
       "<Figure size 1000x600 with 1 Axes>"
      ]
     },
     "metadata": {},
     "output_type": "display_data"
    }
   ],
   "source": [
    "# Tạo một biểu đồ dạng bar để hiển thị missing_ratio\n",
    "plt.figure(figsize=(10, 6))\n",
    "num_col_info_df.loc[\"missing_ratio\"].plot(kind=\"barh\", color=\"lightblue\")\n",
    "plt.title(\"Missing Ratio\")\n",
    "plt.xlabel(\"Percentage (%)\")\n",
    "plt.xticks(rotation=0)\n",
    "plt.show()"
   ]
  },
  {
   "cell_type": "markdown",
   "id": "41006d7f-58ca-4068-b3b6-e8526372283d",
   "metadata": {},
   "source": [
    "**Nhận xét:**\n",
    "- Ta thấy được có 2 cột `Overal_rating` và `Value_for_money` không có missing value.\n",
    "- Những cột có missing với tỉ lệ tương đối nhỏ là `Ground_Service`, `Cabin_staff_service` và `Seat_comfort`.\n",
    "- Những cột có missing với tỉ lệ tương đối cao `Food_and_beverages` và `Inflight_entertainments`."
   ]
  },
  {
   "cell_type": "markdown",
   "id": "6c2a9998-8f3d-4b05-a83d-032d88f4641f",
   "metadata": {},
   "source": [
    "##### 2.4.8.3 Xử lý missing value cho các cột dữ liệu số"
   ]
  },
  {
   "cell_type": "code",
   "execution_count": 15,
   "id": "59db553e-02c8-49fb-be08-e5612364c981",
   "metadata": {},
   "outputs": [],
   "source": [
    "def filling_missing_value(df: pd.DataFrame) -> pd.DataFrame:\n",
    "    # Thay thế NaN bằng mean của cột, được làm tròn\n",
    "    numeric_columns = raw_df.select_dtypes(include=['int64', 'float64']).columns\n",
    "    for col in numeric_columns:\n",
    "        mean = df[col].mean().round()\n",
    "        df[col].fillna((mean), inplace=True)\n",
    "\n",
    "    return df"
   ]
  },
  {
   "cell_type": "code",
   "execution_count": 16,
   "id": "61b6c72a-f3a9-4ac5-8640-cce359c34994",
   "metadata": {
    "scrolled": true
   },
   "outputs": [
    {
     "data": {
      "text/html": [
       "<div>\n",
       "<style scoped>\n",
       "    .dataframe tbody tr th:only-of-type {\n",
       "        vertical-align: middle;\n",
       "    }\n",
       "\n",
       "    .dataframe tbody tr th {\n",
       "        vertical-align: top;\n",
       "    }\n",
       "\n",
       "    .dataframe thead th {\n",
       "        text-align: right;\n",
       "    }\n",
       "</style>\n",
       "<table border=\"1\" class=\"dataframe\">\n",
       "  <thead>\n",
       "    <tr style=\"text-align: right;\">\n",
       "      <th></th>\n",
       "      <th>Seat_comfort</th>\n",
       "      <th>Cabin_staff_service</th>\n",
       "      <th>Food_and_beverages</th>\n",
       "      <th>Inflight_entertainments</th>\n",
       "      <th>Ground_service</th>\n",
       "      <th>Value_for_money</th>\n",
       "      <th>Overall_rating</th>\n",
       "    </tr>\n",
       "  </thead>\n",
       "  <tbody>\n",
       "    <tr>\n",
       "      <th>missing_ratio</th>\n",
       "      <td>0.0</td>\n",
       "      <td>0.0</td>\n",
       "      <td>0.0</td>\n",
       "      <td>0.0</td>\n",
       "      <td>0.0</td>\n",
       "      <td>0.0</td>\n",
       "      <td>0.0</td>\n",
       "    </tr>\n",
       "    <tr>\n",
       "      <th>min</th>\n",
       "      <td>1.0</td>\n",
       "      <td>1.0</td>\n",
       "      <td>1.0</td>\n",
       "      <td>1.0</td>\n",
       "      <td>1.0</td>\n",
       "      <td>1.0</td>\n",
       "      <td>1.0</td>\n",
       "    </tr>\n",
       "    <tr>\n",
       "      <th>lower_quartile</th>\n",
       "      <td>2.0</td>\n",
       "      <td>2.0</td>\n",
       "      <td>1.0</td>\n",
       "      <td>2.0</td>\n",
       "      <td>1.0</td>\n",
       "      <td>1.0</td>\n",
       "      <td>1.0</td>\n",
       "    </tr>\n",
       "    <tr>\n",
       "      <th>median</th>\n",
       "      <td>3.0</td>\n",
       "      <td>3.0</td>\n",
       "      <td>3.0</td>\n",
       "      <td>3.0</td>\n",
       "      <td>3.0</td>\n",
       "      <td>2.0</td>\n",
       "      <td>3.0</td>\n",
       "    </tr>\n",
       "    <tr>\n",
       "      <th>upper_quartile</th>\n",
       "      <td>4.0</td>\n",
       "      <td>5.0</td>\n",
       "      <td>4.0</td>\n",
       "      <td>3.0</td>\n",
       "      <td>4.0</td>\n",
       "      <td>4.0</td>\n",
       "      <td>7.0</td>\n",
       "    </tr>\n",
       "    <tr>\n",
       "      <th>max</th>\n",
       "      <td>5.0</td>\n",
       "      <td>5.0</td>\n",
       "      <td>5.0</td>\n",
       "      <td>5.0</td>\n",
       "      <td>5.0</td>\n",
       "      <td>5.0</td>\n",
       "      <td>10.0</td>\n",
       "    </tr>\n",
       "  </tbody>\n",
       "</table>\n",
       "</div>"
      ],
      "text/plain": [
       "                Seat_comfort  Cabin_staff_service  Food_and_beverages  \\\n",
       "missing_ratio            0.0                  0.0                 0.0   \n",
       "min                      1.0                  1.0                 1.0   \n",
       "lower_quartile           2.0                  2.0                 1.0   \n",
       "median                   3.0                  3.0                 3.0   \n",
       "upper_quartile           4.0                  5.0                 4.0   \n",
       "max                      5.0                  5.0                 5.0   \n",
       "\n",
       "                Inflight_entertainments  Ground_service  Value_for_money  \\\n",
       "missing_ratio                       0.0             0.0              0.0   \n",
       "min                                 1.0             1.0              1.0   \n",
       "lower_quartile                      2.0             1.0              1.0   \n",
       "median                              3.0             3.0              2.0   \n",
       "upper_quartile                      3.0             4.0              4.0   \n",
       "max                                 5.0             5.0              5.0   \n",
       "\n",
       "                Overall_rating  \n",
       "missing_ratio              0.0  \n",
       "min                        1.0  \n",
       "lower_quartile             1.0  \n",
       "median                     3.0  \n",
       "upper_quartile             7.0  \n",
       "max                       10.0  "
      ]
     },
     "execution_count": 16,
     "metadata": {},
     "output_type": "execute_result"
    }
   ],
   "source": [
    "raw_df = filling_missing_value(df=raw_df)\n",
    "\n",
    "# Chuyển đổi các cột float64 sang int64\n",
    "float_columns = raw_df.select_dtypes(include=['float64']).columns\n",
    "raw_df[float_columns] = raw_df[float_columns].astype('int64')\n",
    "\n",
    "# Xem lại bảng phân bố sau khi filling missing bởi mean, nhưng làm tròn tới hàng đơn vị, do rating là kiểu số nguyên\n",
    "num_col_info_df = raw_df.select_dtypes(include=['int64', 'float64'])\n",
    "num_col_info_df = num_col_info_df.agg([missing_ratio, \"min\", lower_quartile, median, upper_quartile, \"max\"])\n",
    "num_col_info_df"
   ]
  },
  {
   "cell_type": "markdown",
   "id": "fa2f82b1-20cb-48ab-bec4-dd325ba02e67",
   "metadata": {},
   "source": [
    "##### 2.4.8.4 Trực quan hóa cho các cột chứa dữ liệu số:"
   ]
  },
  {
   "cell_type": "markdown",
   "id": "64cefc4c-99bf-400d-a7c4-88b405a23ace",
   "metadata": {},
   "source": [
    "Dựa vào bảng phân bố sau khi handle missing value, ta sẽ trực quan hóa những cột dữ liệu số như sau:\n",
    "- Cột `Overall_rating` có max là 10 sẽ được trực quan hóa riêng với bin là 10.\n",
    "- Các cột còn lại sẽ được trực quan hóa với bin là 5."
   ]
  },
  {
   "cell_type": "code",
   "execution_count": 17,
   "id": "748187eb-e2e0-4a1a-bacf-f8909d4a71b6",
   "metadata": {},
   "outputs": [
    {
     "data": {
      "image/png": "[encoded data removed]",
      "text/plain": [
       "<Figure size 1600x1000 with 9 Axes>"
      ]
     },
     "metadata": {},
     "output_type": "display_data"
    }
   ],
   "source": [
    "# Visuallize cho các cột khác Overall_rating\n",
    "numeric_columns = raw_df.select_dtypes(include=['int64']).drop(columns=['Overall_rating'], errors='ignore')\n",
    "numeric_columns.hist(bins=5, figsize=(16, 10), layout=(3, 3), sharey=True, edgecolor='black')\n",
    "plt.show()"
   ]
  },
  {
   "cell_type": "code",
   "execution_count": 18,
   "id": "3bffa1f8-0fd6-4136-9aad-9929ce66d352",
   "metadata": {},
   "outputs": [
    {
     "data": {
      "image/png": "[encoded data removed]",
      "text/plain": [
       "<Figure size 640x480 with 1 Axes>"
      ]
     },
     "metadata": {},
     "output_type": "display_data"
    }
   ],
   "source": [
    "overall_columns = raw_df[\"Overall_rating\"]\n",
    "plt.hist(overall_columns, bins=10, edgecolor='black')\n",
    "plt.xticks(range(1, 11))\n",
    "plt.title('Overall_rating')\n",
    "plt.show()"
   ]
  },
  {
   "cell_type": "markdown",
   "id": "538c5067-e9eb-434a-a7da-0f29016a1470",
   "metadata": {},
   "source": [
    "#### 2.4.9 Phân bố dữ liệu ở các cột có dữ liệu kiểu phân loại"
   ]
  },
  {
   "cell_type": "markdown",
   "id": "1a1f9784-f3a1-4074-a549-df5ade0b95f9",
   "metadata": {},
   "source": [
    "##### 2.4.9.1 Trong các cột dữ liệu kiểu phân loại, các dữ liệu được phân bố như thế nào?"
   ]
  },
  {
   "cell_type": "code",
   "execution_count": 19,
   "id": "c8d7b1a1",
   "metadata": {},
   "outputs": [
    {
     "data": {
      "text/html": [
       "<div>\n",
       "<style scoped>\n",
       "    .dataframe tbody tr th:only-of-type {\n",
       "        vertical-align: middle;\n",
       "    }\n",
       "\n",
       "    .dataframe tbody tr th {\n",
       "        vertical-align: top;\n",
       "    }\n",
       "\n",
       "    .dataframe thead th {\n",
       "        text-align: right;\n",
       "    }\n",
       "</style>\n",
       "<table border=\"1\" class=\"dataframe\">\n",
       "  <thead>\n",
       "    <tr style=\"text-align: right;\">\n",
       "      <th></th>\n",
       "      <th>Name</th>\n",
       "      <th>Verified_review</th>\n",
       "      <th>Type_of_traveller</th>\n",
       "      <th>Seat_type</th>\n",
       "      <th>Route</th>\n",
       "      <th>Recommended</th>\n",
       "    </tr>\n",
       "  </thead>\n",
       "  <tbody>\n",
       "    <tr>\n",
       "      <th>missing_ratio</th>\n",
       "      <td>0.0</td>\n",
       "      <td>0.0</td>\n",
       "      <td>1.666667</td>\n",
       "      <td>0.066667</td>\n",
       "      <td>1.8</td>\n",
       "      <td>0.0</td>\n",
       "    </tr>\n",
       "    <tr>\n",
       "      <th>num_values</th>\n",
       "      <td>2405</td>\n",
       "      <td>3</td>\n",
       "      <td>4</td>\n",
       "      <td>4</td>\n",
       "      <td>487</td>\n",
       "      <td>2</td>\n",
       "    </tr>\n",
       "    <tr>\n",
       "      <th>value_ratios</th>\n",
       "      <td>{'David Ellis': 1.4, 'E Smyth': 1.0, 'Clive Dr...</td>\n",
       "      <td>{'Unknown': 53.1, 'Trip Verified': 39.0, 'Not ...</td>\n",
       "      <td>{'Couple Leisure': 34.1, 'Solo Leisure': 30.5,...</td>\n",
       "      <td>{'Economy Class': 54.1, 'Business Class': 30.9...</td>\n",
       "      <td>{'LONDON': 18.7, 'LHR': 11.1, 'LONDON HEATHROW...</td>\n",
       "      <td>{'no': 63.6, 'yes': 36.4}</td>\n",
       "    </tr>\n",
       "  </tbody>\n",
       "</table>\n",
       "</div>"
      ],
      "text/plain": [
       "                                                            Name  \\\n",
       "missing_ratio                                                0.0   \n",
       "num_values                                                  2405   \n",
       "value_ratios   {'David Ellis': 1.4, 'E Smyth': 1.0, 'Clive Dr...   \n",
       "\n",
       "                                                 Verified_review  \\\n",
       "missing_ratio                                                0.0   \n",
       "num_values                                                     3   \n",
       "value_ratios   {'Unknown': 53.1, 'Trip Verified': 39.0, 'Not ...   \n",
       "\n",
       "                                               Type_of_traveller  \\\n",
       "missing_ratio                                           1.666667   \n",
       "num_values                                                     4   \n",
       "value_ratios   {'Couple Leisure': 34.1, 'Solo Leisure': 30.5,...   \n",
       "\n",
       "                                                       Seat_type  \\\n",
       "missing_ratio                                           0.066667   \n",
       "num_values                                                     4   \n",
       "value_ratios   {'Economy Class': 54.1, 'Business Class': 30.9...   \n",
       "\n",
       "                                                           Route  \\\n",
       "missing_ratio                                                1.8   \n",
       "num_values                                                   487   \n",
       "value_ratios   {'LONDON': 18.7, 'LHR': 11.1, 'LONDON HEATHROW...   \n",
       "\n",
       "                             Recommended  \n",
       "missing_ratio                        0.0  \n",
       "num_values                             2  \n",
       "value_ratios   {'no': 63.6, 'yes': 36.4}  "
      ]
     },
     "execution_count": 19,
     "metadata": {},
     "output_type": "execute_result"
    }
   ],
   "source": [
    "cat_col_info_df = raw_df.select_dtypes(include='object')\n",
    "def missing_ratio(columns): \n",
    "    return 100 * (1 - columns.count() / len(columns))\n",
    "def num_values(columns):\n",
    "    if(columns.name == 'Route'):\n",
    "        return columns.explode().nunique()\n",
    "    return columns.nunique()\n",
    "def value_ratios(columns):\n",
    "    return (columns.explode().value_counts(normalize=True) * 100).round(1).to_dict()\n",
    "\n",
    "cat_col_info_df = cat_col_info_df.agg([missing_ratio, num_values, value_ratios])\n",
    "cat_col_info_df"
   ]
  },
  {
   "cell_type": "markdown",
   "id": "dd7a9a7c",
   "metadata": {},
   "source": [
    "##### 2.4.9.2 Trực quan hoá tỉ lệ missing cho cột dữ liệu kiểu phân loại"
   ]
  },
  {
   "cell_type": "code",
   "execution_count": 20,
   "id": "8d036898",
   "metadata": {},
   "outputs": [
    {
     "data": {
      "image/png": "[encoded data removed]",
      "text/plain": [
       "<Figure size 1000x600 with 1 Axes>"
      ]
     },
     "metadata": {},
     "output_type": "display_data"
    }
   ],
   "source": [
    "plt.figure(figsize=(10, 6))\n",
    "cat_col_info_df.loc[\"missing_ratio\"].plot(kind=\"barh\")\n",
    "plt.title(\"Missing Ratio\")\n",
    "plt.xlabel(\"Percentage (%)\")\n",
    "plt.xticks(rotation=0)\n",
    "plt.show()"
   ]
  },
  {
   "cell_type": "markdown",
   "id": "85c0b144-2898-4b2a-af68-e40df1dfc958",
   "metadata": {},
   "source": [
    "##### 2.4.9.3 Xử lý missing value cho các cột có kiểu dữ liệu phân loại\n",
    "- Điền giá trị NaN bằng giá trị xuất hiện nhiều nhất trong cột.\n",
    "- Không xử lý missing value cho cột `Route` do dữ liệu ở cột này khá phức tạp, khó để chọn giá trị để điền. "
   ]
  },
  {
   "cell_type": "code",
   "execution_count": 21,
   "id": "ebbcc7cc-694a-4809-bd73-290de61afae0",
   "metadata": {},
   "outputs": [],
   "source": [
    "cols = ['Seat_type', 'Type_of_traveller']\n",
    "raw_df[cols] = raw_df[cols].fillna(raw_df[cols].mode().iloc[0])"
   ]
  },
  {
   "cell_type": "markdown",
   "id": "a8758f0b",
   "metadata": {},
   "source": [
    "##### 2.4.9.4 Trực quan hoá cho các cột dữ liệu kiểu phân loại\n",
    "- Vì các cột `Name, Route` có số lượng quá lớn và không có tác dụng khi trực quan nên việc trực quan sẽ bỏ qua những cột này."
   ]
  },
  {
   "cell_type": "code",
   "execution_count": 22,
   "id": "51a57d00",
   "metadata": {},
   "outputs": [
    {
     "data": {
      "image/png": "[encoded data removed]",
      "text/plain": [
       "<Figure size 1200x600 with 4 Axes>"
      ]
     },
     "metadata": {},
     "output_type": "display_data"
    }
   ],
   "source": [
    "cat_columns = cat_col_info_df.drop(columns=['Name', 'Route'])\n",
    "fig, axes = plt.subplots(nrows=2, ncols=2, figsize=(12, 6))\n",
    "for i, column in enumerate(cat_columns.columns[0:4]):\n",
    "    ax = axes[i // 2, i % 2]\n",
    "    names = list(cat_columns[column]['value_ratios'].keys())\n",
    "    values = cat_columns[column]['value_ratios'].values()\n",
    "    ax.bar(names, values)\n",
    "    ax.set_title(column)\n",
    "    ax.set_ylabel('Percent(%)')\n",
    "plt.tight_layout()\n",
    "plt.show()"
   ]
  },
  {
   "cell_type": "markdown",
   "id": "0f44965f-3b73-41de-adc0-895fd406b86e",
   "metadata": {},
   "source": [
    "## 3. Dữ liệu thu thập được có hợp lệ không?"
   ]
  },
  {
   "cell_type": "markdown",
   "id": "86d2743a-dfb6-43f8-8da2-ebbc4bb60a1b",
   "metadata": {},
   "source": [
    "### 3.1 Kiểm tra cột Overall_rating và Recommended \n",
    "**Tại sao cần kiểm tra 2 cột này?**\n",
    "- Do giữa chúng có mối liên hệ (tổng đánh giá của khách hàng càng cao thì họ có khả năng đề xuất cao).\n",
    "- Có thể xảy ra sai sót khi đánh giá làm cho giá trị ở 2 cột này bị đối lập nhau. Ví dụ:\n",
    "  - Overall_rating là 1 nhưng Recommended là yes.\n",
    "  - Overall_rating là 10 nhưng Recommended là no.\n",
    "\n",
    "**Nhiễu ở cột Overall_rating và Recommended có liên quan đến các cột rating khác không?**\n",
    "- Cột Overall_rating khả năng cao do khách hàng tự đánh giá dựa trên cảm nhận của mình và không được tính dựa trên các rating khác.\n",
    "=> **Xử lý nhiễu ở 2 cột này không làm ảnh hưởng các cột rating còn lại**."
   ]
  },
  {
   "cell_type": "markdown",
   "id": "0549cf8b-733b-4cd0-8150-c6939362ac30",
   "metadata": {},
   "source": [
    "#### Trực quan hoá (trước khi xử lý nhiễu)\n",
    "Sử dụng boxplot để dễ dàng quan sát các giá trị nhiễu."
   ]
  },
  {
   "cell_type": "code",
   "execution_count": 23,
   "id": "f616d130-449e-4fa6-978a-de9e28a22e92",
   "metadata": {},
   "outputs": [
    {
     "data": {
      "image/png": "[encoded data removed]",
      "text/plain": [
       "<Figure size 640x480 with 1 Axes>"
      ]
     },
     "metadata": {},
     "output_type": "display_data"
    }
   ],
   "source": [
    "raw_df.boxplot(column='Overall_rating', by='Recommended', grid=False);"
   ]
  },
  {
   "cell_type": "markdown",
   "id": "9bd929f6-6548-4b98-9bd9-f8b729b6c610",
   "metadata": {},
   "source": [
    "#### Xử lý nhiễu\n",
    "Xử lý nhiễu sử dụng **Interquartile range**:\n",
    "- Nếu giá trị lớn hơn chặn trên của boxplot thì thay bằng giá trị chặn trên.\n",
    "- Nếu giá trị nhỏ hơn chặn dưới của boxplot thì thay bằng giá trị chặn dưới."
   ]
  },
  {
   "cell_type": "code",
   "execution_count": 24,
   "id": "250625ad-c15e-4949-80d8-0755b7b8bb96",
   "metadata": {},
   "outputs": [],
   "source": [
    "# Hàm tính giá trị chặn dưới và chặn trên \n",
    "def find_lower_upper(col):\n",
    "    Q1 = col.quantile(0.25)\n",
    "    Q3 = col.quantile(0.75)\n",
    "    min = col.min()\n",
    "    max = col.max()\n",
    "    IQR = Q3 - Q1\n",
    "    lower = min if min > (Q1 - 1.5 * IQR) else (Q1 - 1.5 * IQR)\n",
    "    upper = max if max < (Q3 + 1.5 * IQR) else (Q3 + 1.5 * IQR)\n",
    "    return lower.round(), upper.round()\n",
    "\n",
    "def handle_outliers_using_IQR(df, col):\n",
    "    # Tính giá trị chặn dưới và chặn trên\n",
    "    lower, upper = find_lower_upper(col)\n",
    "    \n",
    "    # Lọc và xử lý outliers nhỏ hơn chặn dưới\n",
    "    lower_filter = col[col < lower]\n",
    "    df.loc[lower_filter.index, col.name] = int(lower)\n",
    "    \n",
    "    # Lọc và xử lý outliers lớn hơn chặn trên\n",
    "    upper_filter = col[col > upper]\n",
    "    df.loc[upper_filter.index, col.name] = int(upper)\n",
    "\n",
    "handle_outliers_using_IQR(raw_df, raw_df[raw_df['Recommended'] == 'yes']['Overall_rating'])\n",
    "handle_outliers_using_IQR(raw_df, raw_df[raw_df['Recommended'] == 'no']['Overall_rating'])"
   ]
  },
  {
   "cell_type": "markdown",
   "id": "64ac1052-962d-484e-98a6-da8defe57603",
   "metadata": {},
   "source": [
    "#### Trực quan hoá (sau khi xử lý nhiễu) "
   ]
  },
  {
   "cell_type": "code",
   "execution_count": 25,
   "id": "dd0f6641-97bf-4724-8050-fda522b1d980",
   "metadata": {},
   "outputs": [
    {
     "data": {
      "image/png": "[encoded data removed]",
      "text/plain": [
       "<Figure size 640x480 with 1 Axes>"
      ]
     },
     "metadata": {},
     "output_type": "display_data"
    }
   ],
   "source": [
    "raw_df.boxplot(column='Overall_rating', by='Recommended', grid=False);"
   ]
  },
  {
   "cell_type": "markdown",
   "id": "ac1ddbc9-f4d7-48dc-b690-0575d05a67b7",
   "metadata": {},
   "source": [
    "## 4. Lưu file sau khi đã tiền xử lý"
   ]
  },
  {
   "cell_type": "code",
   "execution_count": 26,
   "id": "83d0240f-2366-4e6e-8424-6df5847612ef",
   "metadata": {},
   "outputs": [],
   "source": [
    "raw_df.to_csv('../data/cleaned_data.csv', index=False)"
   ]
  },
  {
   "cell_type": "code",
   "execution_count": null,
   "id": "4ed86b82-66cb-4899-85bb-5dd8605626aa",
   "metadata": {},
   "outputs": [],
   "source": []
  }
 ],
 "metadata": {
  "kernelspec": {
   "display_name": "Python 3 (ipykernel)",
   "language": "python",
   "name": "python3"
  },
  "language_info": {
   "codemirror_mode": {
    "name": "ipython",
    "version": 3
   },
   "file_extension": ".py",
   "mimetype": "text/x-python",
   "name": "python",
   "nbconvert_exporter": "python",
   "pygments_lexer": "ipython3",
   "version": "3.10.8"
  }
 },
 "nbformat": 4,
 "nbformat_minor": 5
}
